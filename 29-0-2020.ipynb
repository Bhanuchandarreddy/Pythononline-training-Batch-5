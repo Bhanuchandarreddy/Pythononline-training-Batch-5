{
 "cells": [
  {
   "cell_type": "markdown",
   "metadata": {},
   "source": [
    "**Built in function**\n",
    "**User defined function**"
   ]
  },
  {
   "cell_type": "markdown",
   "metadata": {},
   "source": [
    "**Built in function**\n",
    "-  it is defined as the function whose functionality is predefined in python"
   ]
  },
  {
   "cell_type": "markdown",
   "metadata": {},
   "source": [
    "**Userdefined function**\n",
    "- function which created by the user"
   ]
  },
  {
   "cell_type": "markdown",
   "metadata": {},
   "source": [
    "```\n",
    "def User_function_name(Formal arguments):\n",
    "    -------------------------\n",
    "    -------------------------\n",
    "    -------------------------\n",
    "    \n",
    "user_function_name(Actual arguments)\n",
    "```"
   ]
  },
  {
   "cell_type": "code",
   "execution_count": 1,
   "metadata": {},
   "outputs": [],
   "source": [
    "def add():\n",
    "    print(4+6)"
   ]
  },
  {
   "cell_type": "code",
   "execution_count": 2,
   "metadata": {},
   "outputs": [
    {
     "name": "stdout",
     "output_type": "stream",
     "text": [
      "10\n"
     ]
    }
   ],
   "source": [
    "add() # Function calling"
   ]
  },
  {
   "cell_type": "code",
   "execution_count": 3,
   "metadata": {},
   "outputs": [
    {
     "data": {
      "text/plain": [
       "3"
      ]
     },
     "execution_count": 3,
     "metadata": {},
     "output_type": "execute_result"
    }
   ],
   "source": [
    "def sub(a,b):\n",
    "    return a-b\n",
    "sub(8,5)    "
   ]
  },
  {
   "cell_type": "markdown",
   "metadata": {},
   "source": [
    "**in python we have 4 types arguments**\n",
    "- positional arguments\n",
    "- default arguments\n",
    "- keyword arguments\n",
    "- variable length arguments"
   ]
  },
  {
   "cell_type": "code",
   "execution_count": 19,
   "metadata": {},
   "outputs": [
    {
     "name": "stdout",
     "output_type": "stream",
     "text": [
      "enter your nameklhkgjg\n",
      "Please enter your marks98\n",
      "klhkgjg 98\n"
     ]
    }
   ],
   "source": [
    "# Positional arguments or required argument\n",
    "\n",
    "def student(name,marks):\n",
    "    print(name,marks)\n",
    "    \n",
    "    \n",
    "name=input(\"enter your name\")\n",
    "m=int(input(\"Please enter your marks\"))\n",
    "student(name,m)"
   ]
  },
  {
   "cell_type": "code",
   "execution_count": 16,
   "metadata": {},
   "outputs": [
    {
     "name": "stdout",
     "output_type": "stream",
     "text": [
      "localvariavl\n",
      "global variable\n"
     ]
    }
   ],
   "source": [
    "var=\"global variable\"\n",
    "def s():\n",
    "    var1=\"localvariavl\"\n",
    "    print(var1)\n",
    "    print(var)\n",
    "s()"
   ]
  },
  {
   "cell_type": "code",
   "execution_count": 14,
   "metadata": {
    "collapsed": true
   },
   "outputs": [
    {
     "ename": "NameError",
     "evalue": "name 'var1' is not defined",
     "output_type": "error",
     "traceback": [
      "\u001b[1;31m---------------------------------------------------------------------------\u001b[0m",
      "\u001b[1;31mNameError\u001b[0m                                 Traceback (most recent call last)",
      "\u001b[1;32m<ipython-input-14-1b1d3752adce>\u001b[0m in \u001b[0;36m<module>\u001b[1;34m\u001b[0m\n\u001b[1;32m----> 1\u001b[1;33m \u001b[0mvar1\u001b[0m\u001b[1;33m\u001b[0m\u001b[1;33m\u001b[0m\u001b[0m\n\u001b[0m",
      "\u001b[1;31mNameError\u001b[0m: name 'var1' is not defined"
     ]
    }
   ],
   "source": [
    "var1"
   ]
  },
  {
   "cell_type": "code",
   "execution_count": 15,
   "metadata": {},
   "outputs": [
    {
     "data": {
      "text/plain": [
       "'global variable'"
      ]
     },
     "execution_count": 15,
     "metadata": {},
     "output_type": "execute_result"
    }
   ],
   "source": [
    "var"
   ]
  },
  {
   "cell_type": "code",
   "execution_count": 62,
   "metadata": {},
   "outputs": [
    {
     "name": "stdout",
     "output_type": "stream",
     "text": [
      "enter your name: raviksihroe\n",
      "enter you marks89\n",
      "89\n",
      "raviksihroe\n"
     ]
    }
   ],
   "source": [
    "#keyword arguments\n",
    "\n",
    "def student(name,marks):  # Formal arguments\n",
    "    print(marks)\n",
    "    print(name)\n",
    "student(name=input(\"enter your name: \" ),marks=int(input(\"enter you marks\")))  # Actual arguments"
   ]
  },
  {
   "cell_type": "code",
   "execution_count": 36,
   "metadata": {
    "scrolled": true
   },
   "outputs": [
    {
     "name": "stdout",
     "output_type": "stream",
     "text": [
      "89\n",
      "ravikishore\n"
     ]
    }
   ],
   "source": [
    "def fun(0,1):\n",
    "    ---------\n",
    "    ---------\n",
    "fun(1=0,0=1,)"
   ]
  },
  {
   "cell_type": "code",
   "execution_count": 64,
   "metadata": {},
   "outputs": [
    {
     "name": "stdout",
     "output_type": "stream",
     "text": [
      "enter your namejhgf\n",
      "('jhgf', 25, 5.9)\n"
     ]
    }
   ],
   "source": [
    "# Default arguments\n",
    "\n",
    "def detault_function(name,age=25,height=5.9):\n",
    "    return name,age,height\n",
    "print(detault_function(input(\"enter your name\")))\n",
    "#print(detault_function(\"Kishore\",24))\n",
    "#print(detault_function(\"ravi\",26,5.11))"
   ]
  },
  {
   "cell_type": "code",
   "execution_count": 98,
   "metadata": {},
   "outputs": [
    {
     "data": {
      "text/plain": [
       "135.6"
      ]
     },
     "execution_count": 98,
     "metadata": {},
     "output_type": "execute_result"
    }
   ],
   "source": [
    "# variable length argument\n",
    "def variable_len(*a):\n",
    "    return sum(a)\n",
    "variable_len(98,6,7,8,9,7.6)"
   ]
  },
  {
   "cell_type": "code",
   "execution_count": 68,
   "metadata": {},
   "outputs": [
    {
     "data": {
      "text/plain": [
       "5"
      ]
     },
     "execution_count": 68,
     "metadata": {},
     "output_type": "execute_result"
    }
   ],
   "source": [
    "def add(a,b):\n",
    "    ----------\n",
    "    ----------\n",
    "    ----------\n",
    "    return (a+b)\n",
    "    return (a-b)\n",
    "    print(\"sum\")\n",
    "add(2,3)"
   ]
  },
  {
   "cell_type": "code",
   "execution_count": 66,
   "metadata": {},
   "outputs": [
    {
     "name": "stdout",
     "output_type": "stream",
     "text": [
      "5\n",
      "-1\n"
     ]
    }
   ],
   "source": [
    "def add1(a,b):\n",
    "    print(a+b)\n",
    "    print(a-b)\n",
    "add1(2,3)"
   ]
  },
  {
   "cell_type": "code",
   "execution_count": 70,
   "metadata": {},
   "outputs": [
    {
     "data": {
      "text/plain": [
       "0"
      ]
     },
     "execution_count": 70,
     "metadata": {},
     "output_type": "execute_result"
    }
   ],
   "source": [
    "def retrun_function(a,b):\n",
    "    if a>10 and b <5:\n",
    "        return a+b\n",
    "    return a-b\n",
    "retrun_function(5,5)"
   ]
  },
  {
   "cell_type": "markdown",
   "metadata": {},
   "source": [
    "**keyword_length_arguments**"
   ]
  },
  {
   "cell_type": "code",
   "execution_count": 89,
   "metadata": {},
   "outputs": [
    {
     "name": "stdout",
     "output_type": "stream",
     "text": [
      "Ravikishore\n",
      "{'age': 25, 'place': 'srikalulam', 'no': 98989898}\n"
     ]
    }
   ],
   "source": [
    "def persondetails(name,**kwlen):\n",
    "    print(name)\n",
    "    print(kwlen)\n",
    "persondetails(\"Ravikishore\",age=25,place=\"srikalulam\",no=98989898)"
   ]
  },
  {
   "cell_type": "markdown",
   "metadata": {},
   "source": [
    "**Strings**\n",
    "- sequence of characters enclosed with \" \" or ' '"
   ]
  },
  {
   "cell_type": "code",
   "execution_count": 79,
   "metadata": {},
   "outputs": [
    {
     "name": "stdout",
     "output_type": "stream",
     "text": [
      "ravikishore\n",
      "ravi\n",
      "kishore\n"
     ]
    }
   ],
   "source": [
    "print(\"ravikishore\")\n",
    "print('ravi')\n",
    "print(\"kishore\")"
   ]
  },
  {
   "cell_type": "code",
   "execution_count": 80,
   "metadata": {},
   "outputs": [
    {
     "data": {
      "text/plain": [
       "';adsljhlkadsljlkajdiojlkkllkadljla\\nadjkshnadjksnlkjnaldjkladsfj\\njadshfkhkjadsnfljaoj'"
      ]
     },
     "execution_count": 80,
     "metadata": {},
     "output_type": "execute_result"
    }
   ],
   "source": [
    "# Multi line string\n",
    "'''adsljhlkadsljlkajdiojlkkllkadljla\n",
    "adjkshnadjksnlkjnaldjkladsfj\n",
    "jadshfkhkjadsnfljaoj\n",
    "'''"
   ]
  },
  {
   "cell_type": "code",
   "execution_count": 90,
   "metadata": {},
   "outputs": [
    {
     "data": {
      "text/plain": [
       "'\\nlasjdfjkjlaesjf;lkadsokoasd\\naodjfskjlnklnadskl\\nkjadnsfkjnadsjkf\\n'"
      ]
     },
     "execution_count": 90,
     "metadata": {},
     "output_type": "execute_result"
    }
   ],
   "source": [
    "\"\"\"\n",
    "lasjdfjkjlaesjf;lkadsokoasd\n",
    "aodjfskjlnklnadskl\n",
    "kjadnsfkjnadsjkf\n",
    "\"\"\""
   ]
  },
  {
   "cell_type": "code",
   "execution_count": 81,
   "metadata": {},
   "outputs": [],
   "source": [
    "mobile=str(789643)"
   ]
  },
  {
   "cell_type": "code",
   "execution_count": 82,
   "metadata": {},
   "outputs": [
    {
     "data": {
      "text/plain": [
       "str"
      ]
     },
     "execution_count": 82,
     "metadata": {},
     "output_type": "execute_result"
    }
   ],
   "source": [
    "type(mobile)"
   ]
  },
  {
   "cell_type": "code",
   "execution_count": 83,
   "metadata": {},
   "outputs": [],
   "source": [
    "name=\"ravikishore\""
   ]
  },
  {
   "cell_type": "markdown",
   "metadata": {},
   "source": [
    "```\n",
    "r a v i k i s h o r e\n",
    "0 1 2 3 4 5 6 7 8 9 10"
   ]
  },
  {
   "cell_type": "code",
   "execution_count": 84,
   "metadata": {},
   "outputs": [
    {
     "data": {
      "text/plain": [
       "'r'"
      ]
     },
     "execution_count": 84,
     "metadata": {},
     "output_type": "execute_result"
    }
   ],
   "source": [
    "print(name[0])\n"
   ]
  },
  {
   "cell_type": "code",
   "execution_count": 96,
   "metadata": {},
   "outputs": [
    {
     "data": {
      "text/plain": [
       "'audhkfhjlhkgcnvjkjl;jghujadijadijfojadojadisjfoiadsjfoiadsojadsojokadsjlkadjsfjlkjfkljlkjlkadjlkjkjlk'"
      ]
     },
     "execution_count": 96,
     "metadata": {},
     "output_type": "execute_result"
    }
   ],
   "source": [
    "\"audhkfhjlhkgcnvjkjl;jghujadijadijfojadojadisjfoi\\\n",
    "adsjfoiadsojadsojokadsjlkadjsfjlkjfkljlkjlkadjlkjkjlk\""
   ]
  },
  {
   "cell_type": "code",
   "execution_count": 92,
   "metadata": {},
   "outputs": [
    {
     "data": {
      "text/plain": [
       "'yhgf'"
      ]
     },
     "execution_count": 92,
     "metadata": {},
     "output_type": "execute_result"
    }
   ],
   "source": [
    "\"yhgf\""
   ]
  },
  {
   "cell_type": "code",
   "execution_count": 99,
   "metadata": {},
   "outputs": [
    {
     "data": {
      "text/plain": [
       "228"
      ]
     },
     "execution_count": 99,
     "metadata": {},
     "output_type": "execute_result"
    }
   ],
   "source": [
    "def variable_len(*a):\n",
    "       return sum(a)\n",
    "variable_len(36,25,14,153)"
   ]
  },
  {
   "cell_type": "code",
   "execution_count": null,
   "metadata": {},
   "outputs": [],
   "source": []
  }
 ],
 "metadata": {
  "kernelspec": {
   "display_name": "Python 3",
   "language": "python",
   "name": "python3"
  },
  "language_info": {
   "codemirror_mode": {
    "name": "ipython",
    "version": 3
   },
   "file_extension": ".py",
   "mimetype": "text/x-python",
   "name": "python",
   "nbconvert_exporter": "python",
   "pygments_lexer": "ipython3",
   "version": "3.7.3"
  }
 },
 "nbformat": 4,
 "nbformat_minor": 2
}
