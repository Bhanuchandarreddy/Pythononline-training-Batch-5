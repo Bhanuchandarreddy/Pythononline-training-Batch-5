{
 "cells": [
  {
   "cell_type": "markdown",
   "metadata": {},
   "source": [
    "**Object**\n",
    "- object is a realtime entity\n",
    "- object will have two things\n",
    "    - attributes\n",
    "    - behaviours"
   ]
  },
  {
   "cell_type": "code",
   "execution_count": null,
   "metadata": {},
   "outputs": [],
   "source": [
    "class ClassName:\n",
    "    --------> Attributes----> Variables\n",
    "    or\n",
    "    -------->Behaviour------> Methods[Function]"
   ]
  },
  {
   "cell_type": "code",
   "execution_count": 2,
   "metadata": {},
   "outputs": [],
   "source": [
    "class Camera:\n",
    "    pass\n",
    "\n",
    "cam1 = Camera()\n",
    "cam2 = Camera()\n",
    "\n",
    "cam1.megapixel = 24\n",
    "cam1.lens =6\n",
    "\n",
    "cam2.megapixel = 48\n",
    "cam2.lens = 12"
   ]
  },
  {
   "cell_type": "code",
   "execution_count": 3,
   "metadata": {},
   "outputs": [
    {
     "name": "stdout",
     "output_type": "stream",
     "text": [
      "24\n",
      "12\n"
     ]
    }
   ],
   "source": [
    "print(cam1.megapixel)\n",
    "print(cam2.lens)"
   ]
  },
  {
   "cell_type": "markdown",
   "metadata": {},
   "source": [
    "**find the area of rectangel of 3 different objects**"
   ]
  },
  {
   "cell_type": "code",
   "execution_count": 4,
   "metadata": {},
   "outputs": [],
   "source": [
    "# 3 differnt object book, lap , mobile\n",
    "class Area:\n",
    "    pass\n",
    "\n",
    "book = Area()\n",
    "lap = Area()\n",
    "mobile =  Area()\n",
    "\n",
    "book.height = 30\n",
    "book.width = 40\n",
    "\n",
    "lap.height = 40\n",
    "lap.width =50\n",
    "\n",
    "mobile.height= 50\n",
    "mobile.width=60"
   ]
  },
  {
   "cell_type": "code",
   "execution_count": 6,
   "metadata": {},
   "outputs": [
    {
     "name": "stdout",
     "output_type": "stream",
     "text": [
      "1200\n",
      "2000\n",
      "3000\n"
     ]
    }
   ],
   "source": [
    "print(book.height*book.width)\n",
    "print(lap.height*lap.width)\n",
    "print(mobile.height*mobile.width)"
   ]
  },
  {
   "cell_type": "code",
   "execution_count": 7,
   "metadata": {},
   "outputs": [
    {
     "name": "stdout",
     "output_type": "stream",
     "text": [
      "1452\n",
      "1210\n",
      "726\n"
     ]
    }
   ],
   "source": [
    "class Rectangle:\n",
    "    pass\n",
    "rec1 = Rectangle()\n",
    "rec2 = Rectangle()\n",
    "rec3 = Rectangle() \n",
    "\n",
    "rec1.length=44\n",
    "rec1.breadth=33\n",
    "\n",
    "rec2.length=55\n",
    "rec2.breadth=22\n",
    "\n",
    "rec3.length=66\n",
    "rec3.breadth=11\n",
    "\n",
    "area1=rec1.length*rec1.breadth\n",
    "area2=rec2.length*rec2.breadth\n",
    "area3=rec3.length*rec3.breadth\n",
    "\n",
    "\n",
    "print(area1)\n",
    "print(area2)\n",
    "print(area3)"
   ]
  },
  {
   "cell_type": "markdown",
   "metadata": {},
   "source": [
    "**Function**\n",
    "- collection of statements"
   ]
  },
  {
   "cell_type": "markdown",
   "metadata": {},
   "source": [
    "**Method**\n",
    "- if fucntion inside the class "
   ]
  },
  {
   "cell_type": "code",
   "execution_count": 14,
   "metadata": {},
   "outputs": [],
   "source": [
    "class Student:\n",
    "    name=\"Manikanta\"\n",
    "    rollno=9031\n",
    "    def hello():\n",
    "        print(\"Welcome to python class\")"
   ]
  },
  {
   "cell_type": "code",
   "execution_count": 15,
   "metadata": {},
   "outputs": [
    {
     "name": "stdout",
     "output_type": "stream",
     "text": [
      "Manikanta\n"
     ]
    }
   ],
   "source": [
    "print(Student.name)"
   ]
  },
  {
   "cell_type": "code",
   "execution_count": 16,
   "metadata": {},
   "outputs": [
    {
     "name": "stdout",
     "output_type": "stream",
     "text": [
      "9031\n"
     ]
    }
   ],
   "source": [
    "print(Student.rollno)"
   ]
  },
  {
   "cell_type": "code",
   "execution_count": 17,
   "metadata": {},
   "outputs": [
    {
     "name": "stdout",
     "output_type": "stream",
     "text": [
      "Welcome to python class\n",
      "None\n"
     ]
    }
   ],
   "source": [
    "print(Student.hello())"
   ]
  },
  {
   "cell_type": "code",
   "execution_count": 21,
   "metadata": {},
   "outputs": [],
   "source": [
    "# Calsi problem using with class\n",
    "class Calsi():\n",
    "    def add(a,b):\n",
    "        return a+b\n",
    "    def sub(a,b):\n",
    "        return a-b\n",
    "    def mul(a,b):\n",
    "        return a*b\n",
    "    def div(a,b):\n",
    "        return a//b"
   ]
  },
  {
   "cell_type": "code",
   "execution_count": 22,
   "metadata": {},
   "outputs": [],
   "source": [
    "cal=Calsi"
   ]
  },
  {
   "cell_type": "code",
   "execution_count": 23,
   "metadata": {},
   "outputs": [
    {
     "name": "stdout",
     "output_type": "stream",
     "text": [
      "68\n"
     ]
    }
   ],
   "source": [
    "print(cal.add(23,45))"
   ]
  },
  {
   "cell_type": "markdown",
   "metadata": {},
   "source": [
    "**Constructor**\n",
    "- constructor is allocated the memory for object based on the no.of variables ad sixe of each variable\n"
   ]
  },
  {
   "cell_type": "code",
   "execution_count": 25,
   "metadata": {},
   "outputs": [
    {
     "name": "stdout",
     "output_type": "stream",
     "text": [
      "2106350870032\n",
      "2106350870088\n"
     ]
    }
   ],
   "source": [
    "class Computer:\n",
    "    pass\n",
    "\n",
    "lenovo = Computer()\n",
    "lenovo1= Computer()\n",
    "print(id(lenovo))\n",
    "print(id(lenovo1))"
   ]
  },
  {
   "cell_type": "code",
   "execution_count": 44,
   "metadata": {},
   "outputs": [],
   "source": [
    "class Hello:\n",
    "    def __init__(self):\n",
    "        print(\"First init method\")"
   ]
  },
  {
   "cell_type": "code",
   "execution_count": 45,
   "metadata": {},
   "outputs": [
    {
     "name": "stdout",
     "output_type": "stream",
     "text": [
      "First init method\n",
      "First init method\n"
     ]
    }
   ],
   "source": [
    "hello = Hello()\n",
    "\n",
    "obj =Hello()"
   ]
  },
  {
   "cell_type": "code",
   "execution_count": 37,
   "metadata": {},
   "outputs": [
    {
     "name": "stdout",
     "output_type": "stream",
     "text": [
      "second init method\n"
     ]
    }
   ],
   "source": [
    "class Hello:\n",
    "    def __init__(self):\n",
    "        print(\"First init method\")\n",
    "    def __init__(self):\n",
    "        print(\"second init method\")\n",
    "hello=Hello()"
   ]
  },
  {
   "cell_type": "markdown",
   "metadata": {},
   "source": [
    "**Types of Variables**\n",
    "- two types of variables\n",
    "    - instance variable \n",
    "    - class variable(static variable)"
   ]
  },
  {
   "cell_type": "code",
   "execution_count": 50,
   "metadata": {},
   "outputs": [
    {
     "name": "stdout",
     "output_type": "stream",
     "text": [
      "BMW 15 4\n",
      "audi 20 4\n"
     ]
    }
   ],
   "source": [
    "class Car:\n",
    "    wheels = 4 # this is the class variables\n",
    "    def __init__(self):\n",
    "        self.milage=20\n",
    "        self.company=\"audi\"\n",
    "\n",
    "c1 = Car()\n",
    "c2 = Car()\n",
    "\n",
    "c1.milage = 15\n",
    "c1.company =\"BMW\"\n",
    "\n",
    "print(c1.company,c1.milage,c1.wheels)\n",
    "print(c2.company,c2.milage,c2.wheels)"
   ]
  },
  {
   "cell_type": "markdown",
   "metadata": {},
   "source": [
    "**Types of methods**\n",
    "we have 3 types of method\n",
    "- instance method\n",
    "- Class methods\n",
    "- Static methods"
   ]
  },
  {
   "cell_type": "code",
   "execution_count": 58,
   "metadata": {},
   "outputs": [
    {
     "name": "stdout",
     "output_type": "stream",
     "text": [
      "64.33333333333333\n",
      "58.666666666666664\n",
      "('Apssdc', 'ap')\n",
      "This is python training program\n"
     ]
    }
   ],
   "source": [
    "class College:\n",
    "    college = \"Apssdc\" \n",
    "    collegecode=\"ap\"\n",
    "    def __init__(self,sm1,sm2,sm3):\n",
    "        self.sm1=sm1\n",
    "        self.b=sm2\n",
    "        self.sm3=sm3\n",
    "    def avg(self):\n",
    "        return (self.sm1+self.b+self.sm3)/3\n",
    "    \n",
    "    @classmethod\n",
    "    def classinfo(cls):\n",
    "        return cls.college\n",
    "    \n",
    "    @staticmethod\n",
    "    def info():\n",
    "        print(\"This is python training program\")\n",
    "\n",
    "s1 = College(45,85,63)\n",
    "\n",
    "s2 = College(35,46,95)\n",
    "\n",
    "print(s1.avg())\n",
    "\n",
    "print(s2.avg())\n",
    "\n",
    "print(Student.classinfo())\n",
    "\n",
    "Student.info()\n",
    "\n",
    "\n"
   ]
  },
  {
   "cell_type": "code",
   "execution_count": null,
   "metadata": {},
   "outputs": [],
   "source": []
  },
  {
   "cell_type": "code",
   "execution_count": null,
   "metadata": {},
   "outputs": [],
   "source": []
  },
  {
   "cell_type": "code",
   "execution_count": 65,
   "metadata": {},
   "outputs": [
    {
     "name": "stdout",
     "output_type": "stream",
     "text": [
      "BMW 15 4\n",
      "audi 20 4\n"
     ]
    }
   ],
   "source": [
    "class Car:\n",
    "    Wheels=4\n",
    "    def __init__(self) :\n",
    "        self.Milage=20\n",
    "        self.company =\"audi\"\n",
    "c1=Car()\n",
    "c2=Car()\n",
    "\n",
    "c1.Milage=15\n",
    "c1.company=\"BMW\"\n",
    "print (c1.company,c1.Milage,c1.Wheels)\n",
    "print (c2.company,c2.Milage,c2.Wheels)\n"
   ]
  },
  {
   "cell_type": "markdown",
   "metadata": {},
   "source": [
    "**Inhrit**\n",
    "- We are trying to inheriting something from parent class to child class\n",
    "- single level inheritance\n",
    "- Multi level inheritance\n",
    "- Multiple inheritance"
   ]
  },
  {
   "cell_type": "code",
   "execution_count": 69,
   "metadata": {},
   "outputs": [],
   "source": [
    "# Single ingeritance\n",
    "\n",
    "class class_A:\n",
    "    a,b = 1,2\n",
    "    def display():\n",
    "        print(\"Iam from classA\")\n",
    "class class_B(class_A):\n",
    "    c,d = 3,4\n",
    "    def show():\n",
    "        print(\"Iam from class B\")"
   ]
  },
  {
   "cell_type": "code",
   "execution_count": 70,
   "metadata": {},
   "outputs": [],
   "source": [
    "student_1 = class_B"
   ]
  },
  {
   "cell_type": "code",
   "execution_count": 76,
   "metadata": {},
   "outputs": [
    {
     "name": "stdout",
     "output_type": "stream",
     "text": [
      "Iam from classA\n"
     ]
    }
   ],
   "source": [
    "student_1.display()"
   ]
  },
  {
   "cell_type": "code",
   "execution_count": 78,
   "metadata": {},
   "outputs": [],
   "source": [
    "# Multi level inhertance\n",
    "class A:\n",
    "    def fun_A():\n",
    "        print(\"Iam from Class_A\")\n",
    "class B:\n",
    "    def fun_B():\n",
    "        print(\"Iam from Class_B\")\n",
    "class C(A,B):\n",
    "    def fun_C():\n",
    "        print(\"Iam from class_c\")"
   ]
  },
  {
   "cell_type": "code",
   "execution_count": 82,
   "metadata": {},
   "outputs": [
    {
     "name": "stdout",
     "output_type": "stream",
     "text": [
      "Iam from Class_A\n",
      "Iam from Class_B\n",
      "Iam from class_c\n"
     ]
    }
   ],
   "source": [
    "obj = C\n",
    "obj.fun_A()\n",
    "\n",
    "obj.fun_B()\n",
    "\n",
    "obj.fun_C()"
   ]
  },
  {
   "cell_type": "code",
   "execution_count": 83,
   "metadata": {},
   "outputs": [],
   "source": [
    "# multiple inherit\n",
    "class A:\n",
    "    def fun_A():\n",
    "        print(\"Iam from Class_A\")\n",
    "class B(A):\n",
    "    def fun_B():\n",
    "        print(\"Iam from Class_B\")\n",
    "class C(B):\n",
    "    def fun_C():\n",
    "        print(\"Iam from class_c\")"
   ]
  },
  {
   "cell_type": "code",
   "execution_count": 84,
   "metadata": {},
   "outputs": [
    {
     "name": "stdout",
     "output_type": "stream",
     "text": [
      "Iam from Class_A\n",
      "Iam from Class_B\n",
      "Iam from class_c\n"
     ]
    }
   ],
   "source": [
    "obj = C\n",
    "obj.fun_A()\n",
    "\n",
    "obj.fun_B()\n",
    "\n",
    "obj.fun_C()"
   ]
  },
  {
   "cell_type": "code",
   "execution_count": null,
   "metadata": {},
   "outputs": [],
   "source": []
  }
 ],
 "metadata": {
  "kernelspec": {
   "display_name": "Python 3",
   "language": "python",
   "name": "python3"
  },
  "language_info": {
   "codemirror_mode": {
    "name": "ipython",
    "version": 3
   },
   "file_extension": ".py",
   "mimetype": "text/x-python",
   "name": "python",
   "nbconvert_exporter": "python",
   "pygments_lexer": "ipython3",
   "version": "3.7.3"
  }
 },
 "nbformat": 4,
 "nbformat_minor": 2
}
